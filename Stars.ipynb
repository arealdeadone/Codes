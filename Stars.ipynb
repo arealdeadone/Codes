{
  "nbformat": 4,
  "nbformat_minor": 0,
  "metadata": {
    "colab": {
      "name": "Stars.ipynb",
      "version": "0.3.2",
      "provenance": [],
      "toc_visible": true,
      "include_colab_link": true
    },
    "kernelspec": {
      "name": "python3",
      "display_name": "Python 3"
    }
  },
  "cells": [
    {
      "cell_type": "markdown",
      "metadata": {
        "id": "view-in-github",
        "colab_type": "text"
      },
      "source": [
        "[View in Colaboratory](https://colab.research.google.com/github/arealdeadone/Codes/blob/master/Stars.ipynb)"
      ]
    },
    {
      "metadata": {
        "id": "0KQ-47ALmjBH",
        "colab_type": "code",
        "colab": {}
      },
      "cell_type": "code",
      "source": [
        "import numpy as np\n",
        "import pandas as pd"
      ],
      "execution_count": 0,
      "outputs": []
    },
    {
      "metadata": {
        "id": "e--HNt88wkHL",
        "colab_type": "code",
        "colab": {}
      },
      "cell_type": "code",
      "source": [
        "from google.colab import auth\n",
        "auth.authenticate_user()\n",
        "\n",
        "import gspread\n",
        "from oauth2client.client import GoogleCredentials\n",
        "\n",
        "gc = gspread.authorize(GoogleCredentials.get_application_default())\n",
        "\n",
        "worksheet = gc.open('HTRU2_train').sheet1\n",
        "\n",
        "# get_all_values gives a list of rows.\n",
        "rows = worksheet.get_all_values()"
      ],
      "execution_count": 0,
      "outputs": []
    },
    {
      "metadata": {
        "id": "J2YFqCZuyq_7",
        "colab_type": "code",
        "colab": {
          "base_uri": "https://localhost:8080/",
          "height": 224
        },
        "outputId": "438c9401-aada-462c-a6f1-4160abac04be"
      },
      "cell_type": "code",
      "source": [
        "df_train = pd.DataFrame.from_records(rows, columns=rows[0])\n",
        "\n",
        "df_train.dropna(how='any')\n",
        "df_train.head()\n"
      ],
      "execution_count": 341,
      "outputs": [
        {
          "output_type": "execute_result",
          "data": {
            "text/html": [
              "<div>\n",
              "<style scoped>\n",
              "    .dataframe tbody tr th:only-of-type {\n",
              "        vertical-align: middle;\n",
              "    }\n",
              "\n",
              "    .dataframe tbody tr th {\n",
              "        vertical-align: top;\n",
              "    }\n",
              "\n",
              "    .dataframe thead th {\n",
              "        text-align: right;\n",
              "    }\n",
              "</style>\n",
              "<table border=\"1\" class=\"dataframe\">\n",
              "  <thead>\n",
              "    <tr style=\"text-align: right;\">\n",
              "      <th></th>\n",
              "      <th>observation_ID</th>\n",
              "      <th>mean_integrated</th>\n",
              "      <th>sd_integrated</th>\n",
              "      <th>kurtosis_integrated</th>\n",
              "      <th>skewness_integrated</th>\n",
              "      <th>mean_dmsnr</th>\n",
              "      <th>sd__dmsnr</th>\n",
              "      <th>kurtosis_dmsnr</th>\n",
              "      <th>skewness_dmsnr</th>\n",
              "      <th>class</th>\n",
              "    </tr>\n",
              "  </thead>\n",
              "  <tbody>\n",
              "    <tr>\n",
              "      <th>0</th>\n",
              "      <td>observation_ID</td>\n",
              "      <td>mean_integrated</td>\n",
              "      <td>sd_integrated</td>\n",
              "      <td>kurtosis_integrated</td>\n",
              "      <td>skewness_integrated</td>\n",
              "      <td>mean_dmsnr</td>\n",
              "      <td>sd__dmsnr</td>\n",
              "      <td>kurtosis_dmsnr</td>\n",
              "      <td>skewness_dmsnr</td>\n",
              "      <td>class</td>\n",
              "    </tr>\n",
              "    <tr>\n",
              "      <th>1</th>\n",
              "      <td>AXC-00001</td>\n",
              "      <td>106.7734375</td>\n",
              "      <td>52.00649221</td>\n",
              "      <td>0.214592301</td>\n",
              "      <td>-0.453809418</td>\n",
              "      <td>2.096153846</td>\n",
              "      <td>15.12146867</td>\n",
              "      <td>9.676235451</td>\n",
              "      <td>111.128099</td>\n",
              "      <td>0</td>\n",
              "    </tr>\n",
              "    <tr>\n",
              "      <th>2</th>\n",
              "      <td>AXC-00002</td>\n",
              "      <td>119.84375</td>\n",
              "      <td>44.7870722</td>\n",
              "      <td>0.121752316</td>\n",
              "      <td>0.253787505</td>\n",
              "      <td>6.699832776</td>\n",
              "      <td>32.61059444</td>\n",
              "      <td>5.172561838</td>\n",
              "      <td>26.92770145</td>\n",
              "      <td>0</td>\n",
              "    </tr>\n",
              "    <tr>\n",
              "      <th>3</th>\n",
              "      <td>AXC-00003</td>\n",
              "      <td>131.1953125</td>\n",
              "      <td>50.06590322</td>\n",
              "      <td>-0.090631313</td>\n",
              "      <td>-0.050356626</td>\n",
              "      <td>3.226588629</td>\n",
              "      <td>18.91018188</td>\n",
              "      <td>7.665352563</td>\n",
              "      <td>70.14302195</td>\n",
              "      <td>0</td>\n",
              "    </tr>\n",
              "    <tr>\n",
              "      <th>4</th>\n",
              "      <td>AXC-00004</td>\n",
              "      <td>112.5390625</td>\n",
              "      <td>42.10587517</td>\n",
              "      <td>0.345054075</td>\n",
              "      <td>0.768922856</td>\n",
              "      <td>2.617056856</td>\n",
              "      <td>14.57510282</td>\n",
              "      <td>8.611910393</td>\n",
              "      <td>101.0743835</td>\n",
              "      <td>0</td>\n",
              "    </tr>\n",
              "  </tbody>\n",
              "</table>\n",
              "</div>"
            ],
            "text/plain": [
              "   observation_ID  mean_integrated  sd_integrated  kurtosis_integrated  \\\n",
              "0  observation_ID  mean_integrated  sd_integrated  kurtosis_integrated   \n",
              "1       AXC-00001      106.7734375    52.00649221          0.214592301   \n",
              "2       AXC-00002        119.84375     44.7870722          0.121752316   \n",
              "3       AXC-00003      131.1953125    50.06590322         -0.090631313   \n",
              "4       AXC-00004      112.5390625    42.10587517          0.345054075   \n",
              "\n",
              "   skewness_integrated   mean_dmsnr    sd__dmsnr  kurtosis_dmsnr  \\\n",
              "0  skewness_integrated   mean_dmsnr    sd__dmsnr  kurtosis_dmsnr   \n",
              "1         -0.453809418  2.096153846  15.12146867     9.676235451   \n",
              "2          0.253787505  6.699832776  32.61059444     5.172561838   \n",
              "3         -0.050356626  3.226588629  18.91018188     7.665352563   \n",
              "4          0.768922856  2.617056856  14.57510282     8.611910393   \n",
              "\n",
              "   skewness_dmsnr  class  \n",
              "0  skewness_dmsnr  class  \n",
              "1      111.128099      0  \n",
              "2     26.92770145      0  \n",
              "3     70.14302195      0  \n",
              "4     101.0743835      0  "
            ]
          },
          "metadata": {
            "tags": []
          },
          "execution_count": 341
        }
      ]
    },
    {
      "metadata": {
        "id": "cihuoRinyw4P",
        "colab_type": "code",
        "colab": {
          "base_uri": "https://localhost:8080/",
          "height": 224
        },
        "outputId": "d1d15996-dcd5-4a2e-a00d-04ba6db36d15"
      },
      "cell_type": "code",
      "source": [
        "worksheet_test = gc.open('HTRU2_test').sheet1\n",
        "rows_test = worksheet_test.get_all_values()\n",
        "\n",
        "df_test = pd.DataFrame.from_records(rows_test, columns=rows_test[0])\n",
        "\n",
        "df_test.dropna()\n",
        "df_test.head()"
      ],
      "execution_count": 342,
      "outputs": [
        {
          "output_type": "execute_result",
          "data": {
            "text/html": [
              "<div>\n",
              "<style scoped>\n",
              "    .dataframe tbody tr th:only-of-type {\n",
              "        vertical-align: middle;\n",
              "    }\n",
              "\n",
              "    .dataframe tbody tr th {\n",
              "        vertical-align: top;\n",
              "    }\n",
              "\n",
              "    .dataframe thead th {\n",
              "        text-align: right;\n",
              "    }\n",
              "</style>\n",
              "<table border=\"1\" class=\"dataframe\">\n",
              "  <thead>\n",
              "    <tr style=\"text-align: right;\">\n",
              "      <th></th>\n",
              "      <th>observation_ID</th>\n",
              "      <th>mean_integrated</th>\n",
              "      <th>sd_integrated</th>\n",
              "      <th>kurtosis_integrated</th>\n",
              "      <th>skewness_integrated</th>\n",
              "      <th>mean_dmsnr</th>\n",
              "      <th>sd__dmsnr</th>\n",
              "      <th>kurtosis_dmsnr</th>\n",
              "      <th>skewness_dmsnr</th>\n",
              "    </tr>\n",
              "  </thead>\n",
              "  <tbody>\n",
              "    <tr>\n",
              "      <th>0</th>\n",
              "      <td>observation_ID</td>\n",
              "      <td>mean_integrated</td>\n",
              "      <td>sd_integrated</td>\n",
              "      <td>kurtosis_integrated</td>\n",
              "      <td>skewness_integrated</td>\n",
              "      <td>mean_dmsnr</td>\n",
              "      <td>sd__dmsnr</td>\n",
              "      <td>kurtosis_dmsnr</td>\n",
              "      <td>skewness_dmsnr</td>\n",
              "    </tr>\n",
              "    <tr>\n",
              "      <th>1</th>\n",
              "      <td>AXC-12001</td>\n",
              "      <td>123.09375</td>\n",
              "      <td>51.92895349</td>\n",
              "      <td>0.189234125</td>\n",
              "      <td>-0.271854851</td>\n",
              "      <td>1.732441472</td>\n",
              "      <td>15.44632473</td>\n",
              "      <td>11.14290925</td>\n",
              "      <td>141.8993694</td>\n",
              "    </tr>\n",
              "    <tr>\n",
              "      <th>2</th>\n",
              "      <td>AXC-12002</td>\n",
              "      <td>100.890625</td>\n",
              "      <td>39.49628827</td>\n",
              "      <td>0.518331071</td>\n",
              "      <td>1.550456789</td>\n",
              "      <td>1.733277592</td>\n",
              "      <td>12.30941382</td>\n",
              "      <td>12.45360191</td>\n",
              "      <td>204.6668024</td>\n",
              "    </tr>\n",
              "    <tr>\n",
              "      <th>3</th>\n",
              "      <td>AXC-12003</td>\n",
              "      <td>137.3515625</td>\n",
              "      <td>52.65951805</td>\n",
              "      <td>0.017980891</td>\n",
              "      <td>-0.45847848</td>\n",
              "      <td>2.198996656</td>\n",
              "      <td>14.07346464</td>\n",
              "      <td>9.866782711</td>\n",
              "      <td>126.6391656</td>\n",
              "    </tr>\n",
              "    <tr>\n",
              "      <th>4</th>\n",
              "      <td>AXC-12004</td>\n",
              "      <td>99.6171875</td>\n",
              "      <td>39.39367039</td>\n",
              "      <td>0.653726942</td>\n",
              "      <td>1.323436682</td>\n",
              "      <td>8.113712375</td>\n",
              "      <td>32.54709137</td>\n",
              "      <td>4.482549198</td>\n",
              "      <td>20.87979433</td>\n",
              "    </tr>\n",
              "  </tbody>\n",
              "</table>\n",
              "</div>"
            ],
            "text/plain": [
              "   observation_ID  mean_integrated  sd_integrated  kurtosis_integrated  \\\n",
              "0  observation_ID  mean_integrated  sd_integrated  kurtosis_integrated   \n",
              "1       AXC-12001        123.09375    51.92895349          0.189234125   \n",
              "2       AXC-12002       100.890625    39.49628827          0.518331071   \n",
              "3       AXC-12003      137.3515625    52.65951805          0.017980891   \n",
              "4       AXC-12004       99.6171875    39.39367039          0.653726942   \n",
              "\n",
              "   skewness_integrated   mean_dmsnr    sd__dmsnr  kurtosis_dmsnr  \\\n",
              "0  skewness_integrated   mean_dmsnr    sd__dmsnr  kurtosis_dmsnr   \n",
              "1         -0.271854851  1.732441472  15.44632473     11.14290925   \n",
              "2          1.550456789  1.733277592  12.30941382     12.45360191   \n",
              "3          -0.45847848  2.198996656  14.07346464     9.866782711   \n",
              "4          1.323436682  8.113712375  32.54709137     4.482549198   \n",
              "\n",
              "   skewness_dmsnr  \n",
              "0  skewness_dmsnr  \n",
              "1     141.8993694  \n",
              "2     204.6668024  \n",
              "3     126.6391656  \n",
              "4     20.87979433  "
            ]
          },
          "metadata": {
            "tags": []
          },
          "execution_count": 342
        }
      ]
    },
    {
      "metadata": {
        "id": "OkB6ACOuzyXI",
        "colab_type": "code",
        "colab": {
          "base_uri": "https://localhost:8080/",
          "height": 51
        },
        "outputId": "aafb3263-bffc-4032-b116-a1656aec2f32"
      },
      "cell_type": "code",
      "source": [
        "m_train = df_train.shape[0]\n",
        "print(df_train.shape)\n",
        "m_train"
      ],
      "execution_count": 343,
      "outputs": [
        {
          "output_type": "stream",
          "text": [
            "(12001, 10)\n"
          ],
          "name": "stdout"
        },
        {
          "output_type": "execute_result",
          "data": {
            "text/plain": [
              "12001"
            ]
          },
          "metadata": {
            "tags": []
          },
          "execution_count": 343
        }
      ]
    },
    {
      "metadata": {
        "id": "J-TQ5NPM0NLV",
        "colab_type": "code",
        "colab": {
          "base_uri": "https://localhost:8080/",
          "height": 224
        },
        "outputId": "38c64875-ebf1-43f5-93c9-d2dfd07984e4"
      },
      "cell_type": "code",
      "source": [
        "train_data = df_train.iloc[1:9001, 1:9]\n",
        "output_labels_train = df_train.iloc[1:9001,9:]\n",
        "\n",
        "test_data = df_train.iloc[9001:, 1:9]\n",
        "output_labels_test = df_train.iloc[9001:,9:]\n",
        "\n",
        "test_data_orig = df_test.iloc[1:, 1:]\n",
        "\n",
        "\n",
        "train_data.head()"
      ],
      "execution_count": 344,
      "outputs": [
        {
          "output_type": "execute_result",
          "data": {
            "text/html": [
              "<div>\n",
              "<style scoped>\n",
              "    .dataframe tbody tr th:only-of-type {\n",
              "        vertical-align: middle;\n",
              "    }\n",
              "\n",
              "    .dataframe tbody tr th {\n",
              "        vertical-align: top;\n",
              "    }\n",
              "\n",
              "    .dataframe thead th {\n",
              "        text-align: right;\n",
              "    }\n",
              "</style>\n",
              "<table border=\"1\" class=\"dataframe\">\n",
              "  <thead>\n",
              "    <tr style=\"text-align: right;\">\n",
              "      <th></th>\n",
              "      <th>mean_integrated</th>\n",
              "      <th>sd_integrated</th>\n",
              "      <th>kurtosis_integrated</th>\n",
              "      <th>skewness_integrated</th>\n",
              "      <th>mean_dmsnr</th>\n",
              "      <th>sd__dmsnr</th>\n",
              "      <th>kurtosis_dmsnr</th>\n",
              "      <th>skewness_dmsnr</th>\n",
              "    </tr>\n",
              "  </thead>\n",
              "  <tbody>\n",
              "    <tr>\n",
              "      <th>1</th>\n",
              "      <td>106.7734375</td>\n",
              "      <td>52.00649221</td>\n",
              "      <td>0.214592301</td>\n",
              "      <td>-0.453809418</td>\n",
              "      <td>2.096153846</td>\n",
              "      <td>15.12146867</td>\n",
              "      <td>9.676235451</td>\n",
              "      <td>111.128099</td>\n",
              "    </tr>\n",
              "    <tr>\n",
              "      <th>2</th>\n",
              "      <td>119.84375</td>\n",
              "      <td>44.7870722</td>\n",
              "      <td>0.121752316</td>\n",
              "      <td>0.253787505</td>\n",
              "      <td>6.699832776</td>\n",
              "      <td>32.61059444</td>\n",
              "      <td>5.172561838</td>\n",
              "      <td>26.92770145</td>\n",
              "    </tr>\n",
              "    <tr>\n",
              "      <th>3</th>\n",
              "      <td>131.1953125</td>\n",
              "      <td>50.06590322</td>\n",
              "      <td>-0.090631313</td>\n",
              "      <td>-0.050356626</td>\n",
              "      <td>3.226588629</td>\n",
              "      <td>18.91018188</td>\n",
              "      <td>7.665352563</td>\n",
              "      <td>70.14302195</td>\n",
              "    </tr>\n",
              "    <tr>\n",
              "      <th>4</th>\n",
              "      <td>112.5390625</td>\n",
              "      <td>42.10587517</td>\n",
              "      <td>0.345054075</td>\n",
              "      <td>0.768922856</td>\n",
              "      <td>2.617056856</td>\n",
              "      <td>14.57510282</td>\n",
              "      <td>8.611910393</td>\n",
              "      <td>101.0743835</td>\n",
              "    </tr>\n",
              "    <tr>\n",
              "      <th>5</th>\n",
              "      <td>117.2890625</td>\n",
              "      <td>46.04942188</td>\n",
              "      <td>0.339171469</td>\n",
              "      <td>0.425746936</td>\n",
              "      <td>2.5</td>\n",
              "      <td>20.91464178</td>\n",
              "      <td>9.001622403</td>\n",
              "      <td>83.27324249</td>\n",
              "    </tr>\n",
              "  </tbody>\n",
              "</table>\n",
              "</div>"
            ],
            "text/plain": [
              "  mean_integrated sd_integrated kurtosis_integrated skewness_integrated  \\\n",
              "1     106.7734375   52.00649221         0.214592301        -0.453809418   \n",
              "2       119.84375    44.7870722         0.121752316         0.253787505   \n",
              "3     131.1953125   50.06590322        -0.090631313        -0.050356626   \n",
              "4     112.5390625   42.10587517         0.345054075         0.768922856   \n",
              "5     117.2890625   46.04942188         0.339171469         0.425746936   \n",
              "\n",
              "    mean_dmsnr    sd__dmsnr kurtosis_dmsnr skewness_dmsnr  \n",
              "1  2.096153846  15.12146867    9.676235451     111.128099  \n",
              "2  6.699832776  32.61059444    5.172561838    26.92770145  \n",
              "3  3.226588629  18.91018188    7.665352563    70.14302195  \n",
              "4  2.617056856  14.57510282    8.611910393    101.0743835  \n",
              "5          2.5  20.91464178    9.001622403    83.27324249  "
            ]
          },
          "metadata": {
            "tags": []
          },
          "execution_count": 344
        }
      ]
    },
    {
      "metadata": {
        "id": "lRT9S1bL4vEH",
        "colab_type": "code",
        "colab": {
          "base_uri": "https://localhost:8080/",
          "height": 51
        },
        "outputId": "61cc7f44-855b-43c6-80da-20d84a71d081"
      },
      "cell_type": "code",
      "source": [
        "train_data_flattened = train_data.T\n",
        "output_lables_train_flattened = output_labels_train.T\n",
        "\n",
        "test_data_flattened = test_data.T\n",
        "output_lables_test_flattened = output_labels_test.T\n",
        "\n",
        "print(train_data_flattened.shape)\n",
        "print(test_data_flattened.shape)"
      ],
      "execution_count": 345,
      "outputs": [
        {
          "output_type": "stream",
          "text": [
            "(8, 9000)\n",
            "(8, 3000)\n"
          ],
          "name": "stdout"
        }
      ]
    },
    {
      "metadata": {
        "id": "OrTo2q397xdv",
        "colab_type": "code",
        "colab": {
          "base_uri": "https://localhost:8080/",
          "height": 51
        },
        "outputId": "c6c2d497-8e5e-4dab-9d97-a08b52b2f5f6"
      },
      "cell_type": "code",
      "source": [
        "print(output_lables_train_flattened.shape)\n",
        "print(output_lables_test_flattened.shape)"
      ],
      "execution_count": 346,
      "outputs": [
        {
          "output_type": "stream",
          "text": [
            "(1, 9000)\n",
            "(1, 3000)\n"
          ],
          "name": "stdout"
        }
      ]
    },
    {
      "metadata": {
        "id": "7UESOdU7zeWL",
        "colab_type": "code",
        "colab": {}
      },
      "cell_type": "code",
      "source": [
        "def sigmoid(z):\n",
        "    s = 1/(1+np.exp(-1*z))\n",
        "    \n",
        "    return s"
      ],
      "execution_count": 0,
      "outputs": []
    },
    {
      "metadata": {
        "id": "7_tU0zDM8oVb",
        "colab_type": "code",
        "colab": {}
      },
      "cell_type": "code",
      "source": [
        "def initialize_with_zeros(dim):\n",
        "    \n",
        "    w = np.zeros((dim,1))\n",
        "    b = 0\n",
        "    \n",
        "    assert(w.shape == (dim, 1))\n",
        "    assert(isinstance(b, float) or isinstance(b, int))\n",
        "    \n",
        "    return w, b"
      ],
      "execution_count": 0,
      "outputs": []
    },
    {
      "metadata": {
        "id": "t4a5fwDm9eKW",
        "colab_type": "code",
        "colab": {
          "base_uri": "https://localhost:8080/",
          "height": 68
        },
        "outputId": "7b80d482-2d46-49f9-ab33-49ad782a695c"
      },
      "cell_type": "code",
      "source": [
        "dim = 2\n",
        "w, b = initialize_with_zeros(dim)\n",
        "print (\"w = \" + str(w))\n",
        "print (\"b = \" + str(b))"
      ],
      "execution_count": 349,
      "outputs": [
        {
          "output_type": "stream",
          "text": [
            "w = [[0.]\n",
            " [0.]]\n",
            "b = 0\n"
          ],
          "name": "stdout"
        }
      ]
    },
    {
      "metadata": {
        "id": "QFYymrGI9nZR",
        "colab_type": "code",
        "colab": {}
      },
      "cell_type": "code",
      "source": [
        "def propagate(w, b, X, Y):\n",
        "\n",
        "    m = X.shape[1]\n",
        "    \n",
        "    A = sigmoid(np.dot(w.T,X)+b)\n",
        "    cost = -np.sum(Y*np.log(A)+(1-Y.T).T*np.log((1-A.T).T))/m \n",
        "\n",
        "    dw = np.dot(X,(A-Y).T) / m\n",
        "    db = np.sum(A-Y) / m\n",
        "\n",
        "    assert(dw.shape == w.shape)\n",
        "    assert(db.dtype == float)\n",
        "    cost = np.squeeze(cost)\n",
        "    assert(cost.shape == ())\n",
        "    \n",
        "    grads = {\"dw\": dw,\n",
        "             \"db\": db}\n",
        "    \n",
        "    return grads, cost"
      ],
      "execution_count": 0,
      "outputs": []
    },
    {
      "metadata": {
        "id": "d6r6cdGS9sHz",
        "colab_type": "code",
        "colab": {
          "base_uri": "https://localhost:8080/",
          "height": 85
        },
        "outputId": "a4d2e7dd-d6b5-4175-9f0d-fe88b86ed567"
      },
      "cell_type": "code",
      "source": [
        "w, b, X, Y = np.array([[1.],[2.]]), 2., np.array([[1.,2.,-1.],[3.,4.,-3.2]]), np.array([[1,0,1]])\n",
        "grads, cost = propagate(w, b, X, Y)\n",
        "print (\"dw = \" + str(grads[\"dw\"]))\n",
        "print (\"db = \" + str(grads[\"db\"]))\n",
        "print (\"cost = \" + str(cost))"
      ],
      "execution_count": 351,
      "outputs": [
        {
          "output_type": "stream",
          "text": [
            "dw = [[0.99845601]\n",
            " [2.39507239]]\n",
            "db = 0.001455578136784208\n",
            "cost = 5.801545319394553\n"
          ],
          "name": "stdout"
        }
      ]
    },
    {
      "metadata": {
        "id": "Ylkg5QEC-CpP",
        "colab_type": "code",
        "colab": {}
      },
      "cell_type": "code",
      "source": [
        "def optimize(w, b, X, Y, num_iterations, learning_rate, print_cost = False):\n",
        "    \n",
        "    costs = []\n",
        "    \n",
        "    for i in range(num_iterations):\n",
        "        \n",
        "        \n",
        "        grads, cost = propagate(w,b,X,Y)\n",
        "       \n",
        "        dw = grads[\"dw\"]\n",
        "        db = grads[\"db\"]\n",
        "        \n",
        "        w = w - learning_rate*dw\n",
        "        b = b - learning_rate*db\n",
        "       \n",
        "        if i % 100 == 0:\n",
        "            costs.append(cost)\n",
        "        \n",
        "        if print_cost and i % 100 == 0:\n",
        "            print (\"Cost after iteration %i: %f\" %(i, cost))\n",
        "    \n",
        "    params = {\"w\": w,\n",
        "              \"b\": b}\n",
        "    \n",
        "    grads = {\"dw\": dw,\n",
        "             \"db\": db}\n",
        "    \n",
        "    return params, grads, costs"
      ],
      "execution_count": 0,
      "outputs": []
    },
    {
      "metadata": {
        "id": "Tr8lYNUu-arn",
        "colab_type": "code",
        "colab": {
          "base_uri": "https://localhost:8080/",
          "height": 119
        },
        "outputId": "d8ce92b6-2776-4a46-fd5c-500ad9248ad7"
      },
      "cell_type": "code",
      "source": [
        "params, grads, costs = optimize(w, b, X, Y, num_iterations= 100, learning_rate = 0.009, print_cost = False)\n",
        "\n",
        "print (\"w = \" + str(params[\"w\"]))\n",
        "print (\"b = \" + str(params[\"b\"]))\n",
        "print (\"dw = \" + str(grads[\"dw\"]))\n",
        "print (\"db = \" + str(grads[\"db\"]))"
      ],
      "execution_count": 353,
      "outputs": [
        {
          "output_type": "stream",
          "text": [
            "w = [[0.19033591]\n",
            " [0.12259159]]\n",
            "b = 1.9253598300845747\n",
            "dw = [[0.67752042]\n",
            " [1.41625495]]\n",
            "db = 0.21919450454067657\n"
          ],
          "name": "stdout"
        }
      ]
    },
    {
      "metadata": {
        "id": "wmo53hM5-gYX",
        "colab_type": "code",
        "colab": {}
      },
      "cell_type": "code",
      "source": [
        "def predict(w, b, X):\n",
        "    m = X.shape[1]\n",
        "    Y_prediction = np.zeros((1,m))\n",
        "    w = w.reshape(X.shape[0], 1)\n",
        "    \n",
        "    A = sigmoid(np.dot(w.T,X)+b)\n",
        "    \n",
        "    for i in range(A.shape[1]):\n",
        "        \n",
        "        if A[0][i] <= 0.5:\n",
        "            Y_prediction[0][i] = 0\n",
        "        else:\n",
        "            Y_prediction[0][i] = 1\n",
        "    assert(Y_prediction.shape == (1, m))\n",
        "    \n",
        "    return Y_prediction"
      ],
      "execution_count": 0,
      "outputs": []
    },
    {
      "metadata": {
        "id": "S2UZM7xH-qvW",
        "colab_type": "code",
        "colab": {
          "base_uri": "https://localhost:8080/",
          "height": 34
        },
        "outputId": "2e4dd491-d79a-4cf7-8af8-a33f08cc10d4"
      },
      "cell_type": "code",
      "source": [
        "w = np.array([[0.1124579],[0.23106775]])\n",
        "b = -0.3\n",
        "X = np.array([[1.,-1.1,-3.2],[1.2,2.,0.1]])\n",
        "print (\"predictions = \" + str(predict(w, b, X)))"
      ],
      "execution_count": 355,
      "outputs": [
        {
          "output_type": "stream",
          "text": [
            "predictions = [[1. 1. 0.]]\n"
          ],
          "name": "stdout"
        }
      ]
    },
    {
      "metadata": {
        "id": "wYJ4o6O9-ucf",
        "colab_type": "code",
        "colab": {}
      },
      "cell_type": "code",
      "source": [
        "def model(X_train, Y_train, X_test, Y_test, num_iterations = 2000, learning_rate = 0.5, print_cost = False):\n",
        "    \n",
        "    w, b = initialize_with_zeros(X_train.shape[0])\n",
        "    parameters, grads, costs = optimize(w,b,X_train,Y_train,num_iterations,learning_rate,print_cost)\n",
        "    \n",
        "    w = parameters[\"w\"]\n",
        "    b = parameters[\"b\"]\n",
        "    \n",
        "    Y_prediction_test = predict(w,b,X_test)\n",
        "    Y_prediction_train = predict(w,b,X_train)\n",
        "\n",
        "    print(\"train accuracy: {} %\".format(100 - np.mean(np.abs(Y_prediction_train - Y_train)) * 100))\n",
        "    print(\"test accuracy: {} %\".format(100 - np.mean(np.abs(Y_prediction_test - Y_test)) * 100))\n",
        "\n",
        "    \n",
        "    d = {\"costs\": costs,\n",
        "         \"Y_prediction_test\": Y_prediction_test, \n",
        "         \"Y_prediction_train\" : Y_prediction_train, \n",
        "         \"w\" : w, \n",
        "         \"b\" : b,\n",
        "         \"learning_rate\" : learning_rate,\n",
        "         \"num_iterations\": num_iterations}\n",
        "    \n",
        "    return d"
      ],
      "execution_count": 0,
      "outputs": []
    },
    {
      "metadata": {
        "id": "MxX_clrtKl9W",
        "colab_type": "code",
        "colab": {
          "base_uri": "https://localhost:8080/",
          "height": 187
        },
        "outputId": "418029d5-94e1-40e4-9af4-9ce0852413ec"
      },
      "cell_type": "code",
      "source": [
        "w,b = initialize_with_zeros(test_data_flattened.shape[0])\n",
        "print(\"w = \"+str(w))\n",
        "print(\"b = \"+str(b))\n",
        "# np.dot(w.T,test_data_flattened.as_matrix())\n",
        "# pd.to_numeric(test_data_flattened.iloc[0,0:])\n",
        "test_data_flattened_num = [pd.to_numeric(test_data_flattened.values[i]) for i in range(test_data_flattened.shape[0])]\n",
        "test_data_flattened_num = np.array(test_data_flattened_num)\n",
        "np.dot(w.T,test_data_flattened_num)"
      ],
      "execution_count": 357,
      "outputs": [
        {
          "output_type": "stream",
          "text": [
            "w = [[0.]\n",
            " [0.]\n",
            " [0.]\n",
            " [0.]\n",
            " [0.]\n",
            " [0.]\n",
            " [0.]\n",
            " [0.]]\n",
            "b = 0\n"
          ],
          "name": "stdout"
        },
        {
          "output_type": "execute_result",
          "data": {
            "text/plain": [
              "array([[0., 0., 0., ..., 0., 0., 0.]])"
            ]
          },
          "metadata": {
            "tags": []
          },
          "execution_count": 357
        }
      ]
    },
    {
      "metadata": {
        "id": "LI3NquWM-7ra",
        "colab_type": "code",
        "colab": {
          "base_uri": "https://localhost:8080/",
          "height": 238
        },
        "outputId": "c8c58c81-e5d7-41c6-ed8c-a254d4397358"
      },
      "cell_type": "code",
      "source": [
        "test_data_x = np.array([pd.to_numeric(test_data_flattened.values[i]) for i in range(test_data_flattened.shape[0])])\n",
        "train_data_x = np.array([pd.to_numeric(train_data_flattened.values[i]) for i in range(train_data_flattened.shape[0])])\n",
        "output_lables_train_y = np.array([pd.to_numeric(output_lables_train_flattened.values[i]) for i in range(output_lables_train_flattened.shape[0])])\n",
        "output_lables_test_y = np.array([pd.to_numeric(output_lables_test_flattened.values[i]) for i in range(output_lables_test_flattened.shape[0])])\n",
        "test_data_x\n"
      ],
      "execution_count": 358,
      "outputs": [
        {
          "output_type": "execute_result",
          "data": {
            "text/plain": [
              "array([[ 1.38429688e+02,  2.17421875e+01,  8.71640625e+01, ...,\n",
              "         8.42500000e+01,  8.75546875e+01,  8.77421875e+01],\n",
              "       [ 5.23973228e+01,  2.93633610e+01,  0.00000000e+00, ...,\n",
              "         3.78846935e+01,  3.89909462e+01,  4.73133250e+01],\n",
              "       [-1.19862634e-01,  6.29840751e+00,  5.09886945e-01, ...,\n",
              "         6.83532319e-01,  6.12620871e-01,  3.69248123e-01],\n",
              "       ...,\n",
              "       [ 1.80735476e+01,  7.90060862e+01,  2.67713737e+01, ...,\n",
              "         1.27992345e+01,  1.88431543e+01,  2.19727322e+01],\n",
              "       [ 8.99225286e+00,  5.01918895e-01,  4.56881002e+00, ...,\n",
              "         1.08951479e+01,  8.24427736e+00,  7.79313139e+00],\n",
              "       [ 9.70320632e+01, -8.70267085e-01,  2.21488681e+01, ...,\n",
              "         1.58267737e+02,  7.55630475e+01,  6.33409752e+01]])"
            ]
          },
          "metadata": {
            "tags": []
          },
          "execution_count": 358
        }
      ]
    },
    {
      "metadata": {
        "id": "mvT1U1tq_o1Q",
        "colab_type": "code",
        "colab": {
          "base_uri": "https://localhost:8080/",
          "height": 391
        },
        "outputId": "4e201d5a-774e-4be0-9c68-c1cd6089d7cb"
      },
      "cell_type": "code",
      "source": [
        "d = model(train_data_x, output_lables_train_y, test_data_x, output_lables_test_y, num_iterations = 2000, learning_rate = 0.005, print_cost = True)"
      ],
      "execution_count": 359,
      "outputs": [
        {
          "output_type": "stream",
          "text": [
            "Cost after iteration 0: 0.693147\n",
            "Cost after iteration 100: 0.118324\n",
            "Cost after iteration 200: 0.111605\n",
            "Cost after iteration 300: 0.107888\n",
            "Cost after iteration 400: 0.105398\n",
            "Cost after iteration 500: 0.103584\n",
            "Cost after iteration 600: 0.102193\n",
            "Cost after iteration 700: 0.101087\n",
            "Cost after iteration 800: 0.100182\n",
            "Cost after iteration 900: 0.099427\n",
            "Cost after iteration 1000: 0.098785\n",
            "Cost after iteration 1100: 0.098232\n",
            "Cost after iteration 1200: 0.097749\n",
            "Cost after iteration 1300: 0.097323\n",
            "Cost after iteration 1400: 0.096945\n",
            "Cost after iteration 1500: 0.096605\n",
            "Cost after iteration 1600: 0.096298\n",
            "Cost after iteration 1700: 0.096020\n",
            "Cost after iteration 1800: 0.095766\n",
            "Cost after iteration 1900: 0.095532\n",
            "train accuracy: 97.25555555555556 %\n",
            "test accuracy: 97.43333333333334 %\n"
          ],
          "name": "stdout"
        }
      ]
    },
    {
      "metadata": {
        "id": "SjamQUuPWWc7",
        "colab_type": "code",
        "colab": {
          "base_uri": "https://localhost:8080/",
          "height": 346
        },
        "outputId": "a7c09465-f7af-4474-ea9a-5e8fc32a9c53"
      },
      "cell_type": "code",
      "source": [
        "actual_pred = test_data_orig.T\n",
        "actual_pred"
      ],
      "execution_count": 360,
      "outputs": [
        {
          "output_type": "execute_result",
          "data": {
            "text/html": [
              "<div>\n",
              "<style scoped>\n",
              "    .dataframe tbody tr th:only-of-type {\n",
              "        vertical-align: middle;\n",
              "    }\n",
              "\n",
              "    .dataframe tbody tr th {\n",
              "        vertical-align: top;\n",
              "    }\n",
              "\n",
              "    .dataframe thead th {\n",
              "        text-align: right;\n",
              "    }\n",
              "</style>\n",
              "<table border=\"1\" class=\"dataframe\">\n",
              "  <thead>\n",
              "    <tr style=\"text-align: right;\">\n",
              "      <th></th>\n",
              "      <th>1</th>\n",
              "      <th>2</th>\n",
              "      <th>3</th>\n",
              "      <th>4</th>\n",
              "      <th>5</th>\n",
              "      <th>6</th>\n",
              "      <th>7</th>\n",
              "      <th>8</th>\n",
              "      <th>9</th>\n",
              "      <th>10</th>\n",
              "      <th>...</th>\n",
              "      <th>5889</th>\n",
              "      <th>5890</th>\n",
              "      <th>5891</th>\n",
              "      <th>5892</th>\n",
              "      <th>5893</th>\n",
              "      <th>5894</th>\n",
              "      <th>5895</th>\n",
              "      <th>5896</th>\n",
              "      <th>5897</th>\n",
              "      <th>5898</th>\n",
              "    </tr>\n",
              "  </thead>\n",
              "  <tbody>\n",
              "    <tr>\n",
              "      <th>mean_integrated</th>\n",
              "      <td>123.09375</td>\n",
              "      <td>100.890625</td>\n",
              "      <td>137.3515625</td>\n",
              "      <td>99.6171875</td>\n",
              "      <td>115.1796875</td>\n",
              "      <td>113.1875</td>\n",
              "      <td>141.3203125</td>\n",
              "      <td>114.390625</td>\n",
              "      <td>108.8984375</td>\n",
              "      <td>115.578125</td>\n",
              "      <td>...</td>\n",
              "      <td>108.765625</td>\n",
              "      <td>113.4296875</td>\n",
              "      <td>131.4765625</td>\n",
              "      <td>114.8359375</td>\n",
              "      <td>133.1875</td>\n",
              "      <td>126.4375</td>\n",
              "      <td>105.5546875</td>\n",
              "      <td>134.890625</td>\n",
              "      <td>96.421875</td>\n",
              "      <td>135.59375</td>\n",
              "    </tr>\n",
              "    <tr>\n",
              "      <th>sd_integrated</th>\n",
              "      <td>51.92895349</td>\n",
              "      <td>39.49628827</td>\n",
              "      <td>52.65951805</td>\n",
              "      <td>39.39367039</td>\n",
              "      <td>46.4031979</td>\n",
              "      <td>57.8435052</td>\n",
              "      <td>55.86478285</td>\n",
              "      <td>35.82863606</td>\n",
              "      <td>51.71025645</td>\n",
              "      <td>45.82040508</td>\n",
              "      <td>...</td>\n",
              "      <td>59.39821709</td>\n",
              "      <td>53.73178232</td>\n",
              "      <td>52.16020466</td>\n",
              "      <td>53.54186116</td>\n",
              "      <td>46.65661629</td>\n",
              "      <td>47.27855453</td>\n",
              "      <td>49.28469726</td>\n",
              "      <td>55.07781915</td>\n",
              "      <td>48.30625111</td>\n",
              "      <td>51.98293553</td>\n",
              "    </tr>\n",
              "    <tr>\n",
              "      <th>kurtosis_integrated</th>\n",
              "      <td>0.189234125</td>\n",
              "      <td>0.518331071</td>\n",
              "      <td>0.017980891</td>\n",
              "      <td>0.653726942</td>\n",
              "      <td>0.150304307</td>\n",
              "      <td>0.693296624</td>\n",
              "      <td>-0.257080818</td>\n",
              "      <td>0.453346891</td>\n",
              "      <td>0.073618355</td>\n",
              "      <td>0.383154047</td>\n",
              "      <td>...</td>\n",
              "      <td>0.129117577</td>\n",
              "      <td>0.198426986</td>\n",
              "      <td>0.048921053</td>\n",
              "      <td>0.275238199</td>\n",
              "      <td>-0.326708259</td>\n",
              "      <td>0.249057379</td>\n",
              "      <td>0.217802083</td>\n",
              "      <td>-0.139759422</td>\n",
              "      <td>0.243269235</td>\n",
              "      <td>-0.006378839</td>\n",
              "    </tr>\n",
              "    <tr>\n",
              "      <th>skewness_integrated</th>\n",
              "      <td>-0.271854851</td>\n",
              "      <td>1.550456789</td>\n",
              "      <td>-0.45847848</td>\n",
              "      <td>1.323436682</td>\n",
              "      <td>-0.022155432</td>\n",
              "      <td>-0.1424789</td>\n",
              "      <td>-0.718214496</td>\n",
              "      <td>1.580612173</td>\n",
              "      <td>-0.432564868</td>\n",
              "      <td>0.266932974</td>\n",
              "      <td>...</td>\n",
              "      <td>-0.734403656</td>\n",
              "      <td>-0.225134084</td>\n",
              "      <td>-0.047418166</td>\n",
              "      <td>-0.282135352</td>\n",
              "      <td>0.156832374</td>\n",
              "      <td>0.181704989</td>\n",
              "      <td>-0.169812357</td>\n",
              "      <td>-0.628622776</td>\n",
              "      <td>-0.179898575</td>\n",
              "      <td>-0.247849052</td>\n",
              "    </tr>\n",
              "    <tr>\n",
              "      <th>mean_dmsnr</th>\n",
              "      <td>1.732441472</td>\n",
              "      <td>1.733277592</td>\n",
              "      <td>2.198996656</td>\n",
              "      <td>8.113712375</td>\n",
              "      <td>3.201505017</td>\n",
              "      <td>4.668060201</td>\n",
              "      <td>2.884615385</td>\n",
              "      <td>1.893812709</td>\n",
              "      <td>108.9456522</td>\n",
              "      <td>7.191471572</td>\n",
              "      <td>...</td>\n",
              "      <td>10.44899666</td>\n",
              "      <td>15.34866221</td>\n",
              "      <td>3.072742475</td>\n",
              "      <td>6.621237458</td>\n",
              "      <td>2.732441472</td>\n",
              "      <td>0.701505017</td>\n",
              "      <td>5.602842809</td>\n",
              "      <td>3.284280936</td>\n",
              "      <td>6.825250836</td>\n",
              "      <td>2.77006689</td>\n",
              "    </tr>\n",
              "    <tr>\n",
              "      <th>sd__dmsnr</th>\n",
              "      <td>15.44632473</td>\n",
              "      <td>12.30941382</td>\n",
              "      <td>14.07346464</td>\n",
              "      <td>32.54709137</td>\n",
              "      <td>17.52376402</td>\n",
              "      <td>25.28329819</td>\n",
              "      <td>24.15263055</td>\n",
              "      <td>12.90541596</td>\n",
              "      <td>78.42685847</td>\n",
              "      <td>31.44543441</td>\n",
              "      <td>...</td>\n",
              "      <td>39.57966743</td>\n",
              "      <td>50.42663806</td>\n",
              "      <td>17.51890215</td>\n",
              "      <td>33.46509464</td>\n",
              "      <td>16.51279987</td>\n",
              "      <td>11.26847933</td>\n",
              "      <td>28.69174118</td>\n",
              "      <td>17.98195269</td>\n",
              "      <td>34.14449521</td>\n",
              "      <td>21.4260369</td>\n",
              "    </tr>\n",
              "    <tr>\n",
              "      <th>kurtosis_dmsnr</th>\n",
              "      <td>11.14290925</td>\n",
              "      <td>12.45360191</td>\n",
              "      <td>9.866782711</td>\n",
              "      <td>4.482549198</td>\n",
              "      <td>7.239112622</td>\n",
              "      <td>6.844521764</td>\n",
              "      <td>8.529005068</td>\n",
              "      <td>11.07042787</td>\n",
              "      <td>-0.615833144</td>\n",
              "      <td>4.817609566</td>\n",
              "      <td>...</td>\n",
              "      <td>4.149145439</td>\n",
              "      <td>3.225795188</td>\n",
              "      <td>8.448585737</td>\n",
              "      <td>5.277951757</td>\n",
              "      <td>8.452670652</td>\n",
              "      <td>18.34625198</td>\n",
              "      <td>5.676588354</td>\n",
              "      <td>8.347579405</td>\n",
              "      <td>5.250675546</td>\n",
              "      <td>8.20557689</td>\n",
              "    </tr>\n",
              "    <tr>\n",
              "      <th>skewness_dmsnr</th>\n",
              "      <td>141.8993694</td>\n",
              "      <td>204.6668024</td>\n",
              "      <td>126.6391656</td>\n",
              "      <td>20.87979433</td>\n",
              "      <td>64.57221524</td>\n",
              "      <td>50.69205775</td>\n",
              "      <td>71.89934906</td>\n",
              "      <td>165.3345208</td>\n",
              "      <td>-1.496695207</td>\n",
              "      <td>23.61960298</td>\n",
              "      <td>...</td>\n",
              "      <td>16.95093355</td>\n",
              "      <td>9.137997165</td>\n",
              "      <td>88.30312381</td>\n",
              "      <td>27.2734502</td>\n",
              "      <td>88.05981307</td>\n",
              "      <td>358.056205</td>\n",
              "      <td>33.47001918</td>\n",
              "      <td>88.10811859</td>\n",
              "      <td>27.3930542</td>\n",
              "      <td>69.36548173</td>\n",
              "    </tr>\n",
              "  </tbody>\n",
              "</table>\n",
              "<p>8 rows × 5898 columns</p>\n",
              "</div>"
            ],
            "text/plain": [
              "                             1            2            3            4     \\\n",
              "mean_integrated         123.09375   100.890625  137.3515625   99.6171875   \n",
              "sd_integrated         51.92895349  39.49628827  52.65951805  39.39367039   \n",
              "kurtosis_integrated   0.189234125  0.518331071  0.017980891  0.653726942   \n",
              "skewness_integrated  -0.271854851  1.550456789  -0.45847848  1.323436682   \n",
              "mean_dmsnr            1.732441472  1.733277592  2.198996656  8.113712375   \n",
              "sd__dmsnr             15.44632473  12.30941382  14.07346464  32.54709137   \n",
              "kurtosis_dmsnr        11.14290925  12.45360191  9.866782711  4.482549198   \n",
              "skewness_dmsnr        141.8993694  204.6668024  126.6391656  20.87979433   \n",
              "\n",
              "                             5            6             7            8     \\\n",
              "mean_integrated       115.1796875     113.1875   141.3203125   114.390625   \n",
              "sd_integrated          46.4031979   57.8435052   55.86478285  35.82863606   \n",
              "kurtosis_integrated   0.150304307  0.693296624  -0.257080818  0.453346891   \n",
              "skewness_integrated  -0.022155432   -0.1424789  -0.718214496  1.580612173   \n",
              "mean_dmsnr            3.201505017  4.668060201   2.884615385  1.893812709   \n",
              "sd__dmsnr             17.52376402  25.28329819   24.15263055  12.90541596   \n",
              "kurtosis_dmsnr        7.239112622  6.844521764   8.529005068  11.07042787   \n",
              "skewness_dmsnr        64.57221524  50.69205775   71.89934906  165.3345208   \n",
              "\n",
              "                             9            10        ...               5889  \\\n",
              "mean_integrated       108.8984375   115.578125      ...         108.765625   \n",
              "sd_integrated         51.71025645  45.82040508      ...        59.39821709   \n",
              "kurtosis_integrated   0.073618355  0.383154047      ...        0.129117577   \n",
              "skewness_integrated  -0.432564868  0.266932974      ...       -0.734403656   \n",
              "mean_dmsnr            108.9456522  7.191471572      ...        10.44899666   \n",
              "sd__dmsnr             78.42685847  31.44543441      ...        39.57966743   \n",
              "kurtosis_dmsnr       -0.615833144  4.817609566      ...        4.149145439   \n",
              "skewness_dmsnr       -1.496695207  23.61960298      ...        16.95093355   \n",
              "\n",
              "                             5890          5891          5892          5893  \\\n",
              "mean_integrated       113.4296875   131.4765625   114.8359375      133.1875   \n",
              "sd_integrated         53.73178232   52.16020466   53.54186116   46.65661629   \n",
              "kurtosis_integrated   0.198426986   0.048921053   0.275238199  -0.326708259   \n",
              "skewness_integrated  -0.225134084  -0.047418166  -0.282135352   0.156832374   \n",
              "mean_dmsnr            15.34866221   3.072742475   6.621237458   2.732441472   \n",
              "sd__dmsnr             50.42663806   17.51890215   33.46509464   16.51279987   \n",
              "kurtosis_dmsnr        3.225795188   8.448585737   5.277951757   8.452670652   \n",
              "skewness_dmsnr        9.137997165   88.30312381    27.2734502   88.05981307   \n",
              "\n",
              "                            5894          5895          5896          5897  \\\n",
              "mean_integrated         126.4375   105.5546875    134.890625     96.421875   \n",
              "sd_integrated        47.27855453   49.28469726   55.07781915   48.30625111   \n",
              "kurtosis_integrated  0.249057379   0.217802083  -0.139759422   0.243269235   \n",
              "skewness_integrated  0.181704989  -0.169812357  -0.628622776  -0.179898575   \n",
              "mean_dmsnr           0.701505017   5.602842809   3.284280936   6.825250836   \n",
              "sd__dmsnr            11.26847933   28.69174118   17.98195269   34.14449521   \n",
              "kurtosis_dmsnr       18.34625198   5.676588354   8.347579405   5.250675546   \n",
              "skewness_dmsnr        358.056205   33.47001918   88.10811859    27.3930542   \n",
              "\n",
              "                             5898  \n",
              "mean_integrated         135.59375  \n",
              "sd_integrated         51.98293553  \n",
              "kurtosis_integrated  -0.006378839  \n",
              "skewness_integrated  -0.247849052  \n",
              "mean_dmsnr             2.77006689  \n",
              "sd__dmsnr              21.4260369  \n",
              "kurtosis_dmsnr         8.20557689  \n",
              "skewness_dmsnr        69.36548173  \n",
              "\n",
              "[8 rows x 5898 columns]"
            ]
          },
          "metadata": {
            "tags": []
          },
          "execution_count": 360
        }
      ]
    },
    {
      "metadata": {
        "id": "gPVFlC6gWxN_",
        "colab_type": "code",
        "colab": {
          "base_uri": "https://localhost:8080/",
          "height": 238
        },
        "outputId": "c4ff243d-c5a4-4530-a348-873143ff1afa"
      },
      "cell_type": "code",
      "source": [
        "actual_pred_numeric = np.array([pd.to_numeric(actual_pred.values[i]) for i in range(actual_pred.shape[0])])\n",
        "actual_pred_numeric"
      ],
      "execution_count": 361,
      "outputs": [
        {
          "output_type": "execute_result",
          "data": {
            "text/plain": [
              "array([[ 1.23093750e+02,  1.00890625e+02,  1.37351562e+02, ...,\n",
              "         1.34890625e+02,  9.64218750e+01,  1.35593750e+02],\n",
              "       [ 5.19289535e+01,  3.94962883e+01,  5.26595181e+01, ...,\n",
              "         5.50778192e+01,  4.83062511e+01,  5.19829355e+01],\n",
              "       [ 1.89234125e-01,  5.18331071e-01,  1.79808910e-02, ...,\n",
              "        -1.39759422e-01,  2.43269235e-01, -6.37883900e-03],\n",
              "       ...,\n",
              "       [ 1.54463247e+01,  1.23094138e+01,  1.40734646e+01, ...,\n",
              "         1.79819527e+01,  3.41444952e+01,  2.14260369e+01],\n",
              "       [ 1.11429093e+01,  1.24536019e+01,  9.86678271e+00, ...,\n",
              "         8.34757940e+00,  5.25067555e+00,  8.20557689e+00],\n",
              "       [ 1.41899369e+02,  2.04666802e+02,  1.26639166e+02, ...,\n",
              "         8.81081186e+01,  2.73930542e+01,  6.93654817e+01]])"
            ]
          },
          "metadata": {
            "tags": []
          },
          "execution_count": 361
        }
      ]
    },
    {
      "metadata": {
        "id": "CuqGCjR1XY9N",
        "colab_type": "code",
        "colab": {
          "base_uri": "https://localhost:8080/",
          "height": 170
        },
        "outputId": "6f8b7a7c-dd94-4f30-eb7e-ec7c139b84c3"
      },
      "cell_type": "code",
      "source": [
        "print(d[\"w\"])\n",
        "print(d[\"b\"])\n",
        "labels = predict(d[\"w\"],d[\"b\"], actual_pred_numeric)\n",
        "labels = labels.T"
      ],
      "execution_count": 364,
      "outputs": [
        {
          "output_type": "stream",
          "text": [
            "[[-0.03235179]\n",
            " [-0.01969771]\n",
            " [ 0.17686494]\n",
            " [ 0.36945943]\n",
            " [-0.00395394]\n",
            " [ 0.0386805 ]\n",
            " [-0.03504593]\n",
            " [-0.00294882]]\n",
            "-0.0003345942105387511\n"
          ],
          "name": "stdout"
        }
      ]
    },
    {
      "metadata": {
        "id": "RO-ESmV_Xk_E",
        "colab_type": "code",
        "colab": {}
      },
      "cell_type": "code",
      "source": [
        "final = pd.DataFrame.from_dict(labels)\n",
        "observation_ID = df_test.iloc[1:,0]\n",
        "final['observation_ID'] = observation_ID.values\n",
        "final.columns = ['class', 'observation_ID']\n",
        "final = final[['observation_ID','class']]\n",
        "final.head()\n",
        "\n",
        "final.to_csv('Output.csv', sep=',')\n",
        "\n",
        "# final = pd.DataFrame({'observation_ID': observation_ID.values, 'class': labels})\n",
        "\n",
        "# final.head()"
      ],
      "execution_count": 0,
      "outputs": []
    },
    {
      "metadata": {
        "id": "k5wPjsiqYF0G",
        "colab_type": "code",
        "colab": {
          "base_uri": "https://localhost:8080/",
          "height": 34
        },
        "outputId": "69afabd7-4d75-46e4-993a-c35ecb4debde"
      },
      "cell_type": "code",
      "source": [
        "!ls\n"
      ],
      "execution_count": 378,
      "outputs": [
        {
          "output_type": "stream",
          "text": [
            "adc.json  datalab  Output.csv  sample_data\r\n"
          ],
          "name": "stdout"
        }
      ]
    },
    {
      "metadata": {
        "id": "d7KLEuAXbxGK",
        "colab_type": "code",
        "colab": {}
      },
      "cell_type": "code",
      "source": [
        "from google.colab import files\n",
        "\n",
        "files.download('Output.csv')"
      ],
      "execution_count": 0,
      "outputs": []
    },
    {
      "metadata": {
        "id": "_aHPyzNucMAl",
        "colab_type": "code",
        "colab": {}
      },
      "cell_type": "code",
      "source": [
        " "
      ],
      "execution_count": 0,
      "outputs": []
    }
  ]
}